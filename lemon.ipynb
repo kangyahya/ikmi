{
 "cells": [
  {
   "cell_type": "code",
   "execution_count": 1,
   "id": "92ab602f",
   "metadata": {},
   "outputs": [],
   "source": [
    "import matplotlib.pyplot as plt"
   ]
  },
  {
   "cell_type": "code",
   "execution_count": 6,
   "id": "a49331b6",
   "metadata": {},
   "outputs": [
    {
     "data": {
      "image/png": "[encoded data removed]",
      "text/plain": [
       "<Figure size 432x288 with 1 Axes>"
      ]
     },
     "metadata": {
      "needs_background": "light"
     },
     "output_type": "display_data"
    }
   ],
   "source": [
    "lemon_diameter = [6.44,6.87,7.7,8.85,8.15,9.96,7.21,10.04,10.2,11.06]\n",
    "lemon_weight = [112.05,114.58,116.71,117.4,128.93,132.93,138.92,145.98,148.44,152.81]\n",
    "lime_diameter = [6.15,7.0,7.0,7.69,7.95,7.51,10.46,8.72,9.53,10.09]\n",
    "lime_weight =[112.76,125.16,131.36,132.41,138.08,142.55,156.86,158.67,163.28,166.74]\n",
    "plt.scatter(lemon_diameter,lemon_weight)\n",
    "plt.scatter(lime_diameter,lime_weight)\n",
    "plt.show()"
   ]
  },
  {
   "cell_type": "code",
   "execution_count": null,
   "id": "20ddfbde",
   "metadata": {},
   "outputs": [],
   "source": []
  }
 ],
 "metadata": {
  "kernelspec": {
   "display_name": "Python 3 (ipykernel)",
   "language": "python",
   "name": "python3"
  },
  "language_info": {
   "codemirror_mode": {
    "name": "ipython",
    "version": 3
   },
   "file_extension": ".py",
   "mimetype": "text/x-python",
   "name": "python",
   "nbconvert_exporter": "python",
   "pygments_lexer": "ipython3",
   "version": "3.9.7"
  }
 },
 "nbformat": 4,
 "nbformat_minor": 5
}
